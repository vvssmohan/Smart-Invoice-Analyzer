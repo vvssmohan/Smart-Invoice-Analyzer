{
 "cells": [
  {
   "cell_type": "code",
   "execution_count": 57,
   "metadata": {},
   "outputs": [],
   "source": [
    "import pandas as pd\n",
    "import numpy as np\n",
    "from sklearn.model_selection import train_test_split"
   ]
  },
  {
   "cell_type": "code",
   "execution_count": 58,
   "metadata": {},
   "outputs": [],
   "source": [
    "df =  pd.read_csv(\"invoices2.csv\")"
   ]
  },
  {
   "cell_type": "code",
   "execution_count": 59,
   "metadata": {},
   "outputs": [],
   "source": [
    "df[\"Invoice Date\"] = pd.to_datetime(df[\"Invoice Date\"])\n",
    "df[\"Year\"] = df[\"Invoice Date\"].dt.year\n",
    "df[\"Month\"] = df[\"Invoice Date\"].dt.month\n",
    "df[\"Day\"] = df[\"Invoice Date\"].dt.day\n"
   ]
  },
  {
   "cell_type": "code",
   "execution_count": 60,
   "metadata": {},
   "outputs": [
    {
     "data": {
      "text/plain": [
       "Product_Name\n",
       "Haier Refrigerator Haier               284\n",
       "Samsung Mobile Samsung                 280\n",
       "Amazon Tablet Amazon                   277\n",
       "Samsung TV Samsung                     277\n",
       "IFB Washing Machine IFB                266\n",
       "LG Washing Machine LG                  264\n",
       "Bosch Washing Machine Bosch            264\n",
       "HP Laptop HP                           264\n",
       "Sony TV Sony                           262\n",
       "LG Refrigerator LG                     261\n",
       "Apple Mobile Apple                     260\n",
       "Whirlpool Washing Machine Whirlpool    260\n",
       "Samsung AC Samsung                     260\n",
       "Lenovo Laptop Lenovo                   256\n",
       "Samsung Printer Samsung                255\n",
       "Brother Printer Brother                252\n",
       "Epson Printer Epson                    251\n",
       "LG TV LG                               251\n",
       "Godrej Refrigerator Godrej             251\n",
       "Google Mobile Google                   249\n",
       "Daikin AC Daikin                       248\n",
       "TCL TV TCL                             247\n",
       "Lenovo Tablet Lenovo                   246\n",
       "Canon Printer Canon                    246\n",
       "Panasonic TV Panasonic                 246\n",
       "Dell Laptop Dell                       244\n",
       "LG AC LG                               243\n",
       "Xiaomi Mobile Xiaomi                   242\n",
       "Apple Tablet Apple                     240\n",
       "Asus Laptop Asus                       240\n",
       "HP Printer HP                          240\n",
       "Blue Star AC Blue Star                 238\n",
       "Samsung Washing Machine Samsung        238\n",
       "Whirlpool Refrigerator Whirlpool       233\n",
       "Apple Laptop Apple                     233\n",
       "OnePlus Mobile OnePlus                 230\n",
       "Samsung Refrigerator Samsung           227\n",
       "Voltas AC Voltas                       227\n",
       "Microsoft Tablet Microsoft             224\n",
       "Samsung Tablet Samsung                 224\n",
       "Name: count, dtype: int64"
      ]
     },
     "execution_count": 60,
     "metadata": {},
     "output_type": "execute_result"
    }
   ],
   "source": [
    "df[\"Product_Name\"].value_counts()"
   ]
  },
  {
   "cell_type": "code",
   "execution_count": 61,
   "metadata": {},
   "outputs": [],
   "source": [
    "def product(product_name):\n",
    "    if product_name == 'Asus Laptop Asus':\n",
    "        return 1\n",
    "    elif product_name == 'Epson Printer Epson':\n",
    "       return 2\n",
    "    elif product_name == 'Samsung Mobile Samsung':\n",
    "        return 3\n",
    "    elif product_name == 'Samsung TV Samsung':\n",
    "        return 4\n",
    "    elif product_name == 'OnePlus Mobile OnePlus': \n",
    "        return 5\n",
    "    elif product_name == 'Samsung Printer Samsung':\n",
    "        return 6\n",
    "    elif product_name == 'Google Mobile Google':\n",
    "        return 7\n",
    "    elif product_name == 'Godrej Refrigerator Godrej':\n",
    "        return 8\n",
    "    elif product_name == 'Amazon Tablet Amazon':\n",
    "        return 9\n",
    "    elif product_name == 'Voltas AC Voltas':\n",
    "       return 10\n",
    "    elif product_name == 'Haier Refrigerator Haier':\n",
    "        return 11\n",
    "    elif product_name == 'Samsung Refrigerator Samsung':\n",
    "        return 12\n",
    "    elif product_name == 'LG Washing Machine LG':\n",
    "        return 13\n",
    "    elif product_name == 'LG Refrigerator LG':\n",
    "       return 14\n",
    "    elif product_name == 'Blue Star AC Blue Star':\n",
    "        return 15\n",
    "    elif product_name == 'Panasonic TV Panasonic':\n",
    "       return 16\n",
    "    elif product_name == 'Bosch Washing Machine Bosch':\n",
    "        return 17\n",
    "    elif product_name == 'Samsung Washing Machine Samsung':\n",
    "        return 18\n",
    "    elif product_name == 'Xiaomi Mobile Xiaomi':\n",
    "        return 19\n",
    "    elif product_name == 'Sony TV Sony':\n",
    "        return 20\n",
    "    elif product_name == 'TCL TV TCL':\n",
    "       return 21\n",
    "    elif product_name == 'HP Printer HP':\n",
    "        return 22\n",
    "    elif product_name == 'LG TV LG':\n",
    "        return 23\n",
    "    elif product_name == 'Whirlpool Refrigerator Whirlpool':\n",
    "        return 24\n",
    "    elif product_name == 'Whirlpool Washing Machine Whirlpool':\n",
    "        return 25\n",
    "    elif product_name == 'HP Laptop HP':\n",
    "       return 26\n",
    "    elif product_name == 'Apple Mobile Apple':\n",
    "        return 27\n",
    "    elif product_name == 'IFB Washing Machine IFB':\n",
    "        return 28\n",
    "    elif product_name == 'Lenovo Tablet Lenovo':\n",
    "        return 29\n",
    "    elif product_name == 'LG AC LG':\n",
    "        return 30\n",
    "    elif product_name == 'Microsoft Tablet Microsoft':\n",
    "       return 31\n",
    "    elif product_name == 'Brother Printer Brother':\n",
    "        return 32\n",
    "    elif product_name == 'Samsung AC Samsung':\n",
    "        return 33\n",
    "    elif product_name == 'Canon Printer Canon':\n",
    "        return 34\n",
    "    elif product_name == 'Dell Laptop Dell':\n",
    "        return 35\n",
    "    elif product_name == 'Apple Laptop Apple':\n",
    "        return 36\n",
    "    elif product_name == 'Apple Tablet Apple':\n",
    "        return 37\n",
    "    elif product_name == 'Daikin AC Daikin':\n",
    "        return 38\n",
    "    elif product_name == 'Lenovo Laptop Lenovo':\n",
    "        return 39\n",
    "    elif product_name =='Samsung Tablet Samsung':\n",
    "        return 40\n",
    "    else:\n",
    "        return 41\n",
    "    "
   ]
  },
  {
   "cell_type": "code",
   "execution_count": 62,
   "metadata": {},
   "outputs": [
    {
     "data": {
      "text/plain": [
       "array(['Asus', 'Epson', 'Samsung', 'OnePlus', 'Google', 'Godrej',\n",
       "       'Amazon', 'Voltas', 'Haier', 'LG', 'Blue Star', 'Panasonic',\n",
       "       'Bosch', 'Xiaomi', 'Sony', 'TCL', 'HP', 'Whirlpool', 'Apple',\n",
       "       'IFB', 'Lenovo', 'Microsoft', 'Brother', 'Canon', 'Dell', 'Daikin'],\n",
       "      dtype=object)"
      ]
     },
     "execution_count": 62,
     "metadata": {},
     "output_type": "execute_result"
    }
   ],
   "source": [
    "df['Company'].unique()"
   ]
  },
  {
   "cell_type": "code",
   "execution_count": 63,
   "metadata": {},
   "outputs": [],
   "source": [
    "def company(company):\n",
    "    if company == 'Asus':\n",
    "        return 1\n",
    "    elif company == 'Epson':\n",
    "        return 2\n",
    "    elif company == 'Samsung':\n",
    "        return 3\n",
    "    elif company == 'OnePlus':\n",
    "        return 4\n",
    "    elif company == 'Google':\n",
    "        return 5\n",
    "    elif company == 'Godrej':\n",
    "       return 6\n",
    "    elif company == 'Amazon':\n",
    "        return 7\n",
    "    elif company == 'Voltas':\n",
    "        return 8\n",
    "    elif company == 'Haier':\n",
    "        return 9\n",
    "    elif company == 'LG':\n",
    "        return 10\n",
    "    elif company == 'Blue Star':\n",
    "        return 11\n",
    "    elif company == 'Panasonic':\n",
    "        return 12\n",
    "    elif company == 'Bosch':\n",
    "        return 13\n",
    "    elif company == 'Xiaomi':\n",
    "        return 14\n",
    "    elif company == 'Sony':\n",
    "        return 15\n",
    "    elif company == 'TCL':\n",
    "        return 16\n",
    "    elif company == 'HP':\n",
    "        return 17\n",
    "    elif company == 'Whirlpool':\n",
    "        return 18\n",
    "    elif company == 'Apple':\n",
    "        return 19\n",
    "    elif company == 'IFB':\n",
    "        return 20\n",
    "    elif company == 'Lenovo':\n",
    "        return 21\n",
    "    elif company == 'Microsoft':\n",
    "        return 22\n",
    "    elif company == 'Brother':\n",
    "        return 23\n",
    "    elif company == 'Canon':\n",
    "        return 24\n",
    "    elif company == 'Dell':\n",
    "        return 25\n",
    "    elif company == 'Daikin':\n",
    "        return 26\n",
    "    else:\n",
    "        return 27"
   ]
  },
  {
   "cell_type": "code",
   "execution_count": 64,
   "metadata": {},
   "outputs": [],
   "source": [
    "# df['Product_Name'] = df['Product_Name'].apply(product)\n",
    "# df['Company'] = df['Company'].apply(company)"
   ]
  },
  {
   "cell_type": "code",
   "execution_count": 65,
   "metadata": {},
   "outputs": [],
   "source": [
    "from sklearn.compose import ColumnTransformer\n",
    "from sklearn.pipeline import Pipeline\n",
    "from sklearn.preprocessing import OneHotEncoder\n",
    "from sklearn.metrics import r2_score,mean_absolute_error"
   ]
  },
  {
   "cell_type": "code",
   "execution_count": 66,
   "metadata": {},
   "outputs": [],
   "source": [
    "from sklearn.neighbors import KNeighborsClassifier\n",
    "from sklearn.tree import DecisionTreeClassifier\n",
    "from sklearn.ensemble import RandomForestClassifier,GradientBoostingClassifier,AdaBoostClassifier,ExtraTreesClassifier\n",
    "from sklearn.svm import SVC\n",
    "from xgboost import XGBClassifier"
   ]
  },
  {
   "cell_type": "code",
   "execution_count": 69,
   "metadata": {},
   "outputs": [
    {
     "name": "stdout",
     "output_type": "stream",
     "text": [
      "      Product_Name  Company  Quantity  Total_Price\n",
      "9254            34       24         3       402702\n",
      "1561             6        3         5       871305\n",
      "1670             3        3         2       321062\n",
      "6087             2        2         3       580620\n",
      "6669            11        9         1         6482\n",
      "...            ...      ...       ...          ...\n",
      "5734            21       16         5       483590\n",
      "5191            18        3         4        93628\n",
      "5390            18        3         5       878475\n",
      "860              3        3         3       402558\n",
      "7270            32       23         5       539785\n",
      "\n",
      "[8000 rows x 4 columns]\n"
     ]
    }
   ],
   "source": [
    "# df[\"Fraudulent\"] = df[\"Fraudulent\"].apply(lambda x: 1 if x == \"Fraudulent\" else 0)\n",
    "\n",
    "# # Select Features\n",
    "# X = df[[\"Product_Name\", \"Company\", \"Quantity\", \"Total_Price\"]]\n",
    "# y = df[\"Fraudulent\"]\n",
    "# print(y)\n",
    "# Train-Test Split\n",
    "X_train, X_test, y_train, y_test = train_test_split(X, y, test_size=0.2, random_state=42)\n",
    "print(X_train)\n"
   ]
  },
  {
   "cell_type": "markdown",
   "metadata": {},
   "source": [
    "# KNN"
   ]
  },
  {
   "cell_type": "code",
   "execution_count": 70,
   "metadata": {},
   "outputs": [
    {
     "name": "stdout",
     "output_type": "stream",
     "text": [
      "R2 score -0.38960462928066164\n",
      "MAE 0.1355\n"
     ]
    }
   ],
   "source": [
    "step1 = ColumnTransformer(transformers=[\n",
    "    ('col_tnf',OneHotEncoder(sparse_output=False,drop='first'),[0,1])\n",
    "],remainder='passthrough')\n",
    "\n",
    "step2 = KNeighborsClassifier(n_neighbors=3)\n",
    "\n",
    "pipe = Pipeline([\n",
    "    ('step1',step1),\n",
    "    ('step2',step2) \n",
    "])\n",
    "\n",
    "pipe.fit(X_train,y_train)\n",
    "\n",
    "y_pred = pipe.predict(X_test)\n",
    "\n",
    "print('R2 score',r2_score(y_test,y_pred))\n",
    "print('MAE',mean_absolute_error(y_test,y_pred))"
   ]
  },
  {
   "cell_type": "markdown",
   "metadata": {},
   "source": [
    "# Decision Tree Classifier"
   ]
  },
  {
   "cell_type": "code",
   "execution_count": 71,
   "metadata": {},
   "outputs": [
    {
     "name": "stdout",
     "output_type": "stream",
     "text": [
      "R2 score -0.16398616548601552\n",
      "MAE 0.1135\n"
     ]
    }
   ],
   "source": [
    "step1 = ColumnTransformer(transformers=[\n",
    "    ('col_tnf',OneHotEncoder(sparse_output=False,drop='first'),[0,1])\n",
    "],remainder='passthrough')\n",
    "\n",
    "step2 = DecisionTreeClassifier(max_depth=8)\n",
    "\n",
    "pipe = Pipeline([\n",
    "    ('step1',step1),\n",
    "    ('step2',step2)\n",
    "])\n",
    "\n",
    "pipe.fit(X_train,y_train)\n",
    "\n",
    "y_pred = pipe.predict(X_test)\n",
    "\n",
    "print('R2 score',r2_score(y_test,y_pred))\n",
    "print('MAE',mean_absolute_error(y_test,y_pred))"
   ]
  },
  {
   "cell_type": "code",
   "execution_count": 72,
   "metadata": {},
   "outputs": [
    {
     "name": "stderr",
     "output_type": "stream",
     "text": [
      "c:\\Users\\kasik\\AppData\\Local\\Programs\\Python\\Python312\\Lib\\site-packages\\sklearn\\ensemble\\_weight_boosting.py:527: FutureWarning: The SAMME.R algorithm (the default) is deprecated and will be removed in 1.6. Use the SAMME algorithm to circumvent this warning.\n",
      "  warnings.warn(\n"
     ]
    },
    {
     "name": "stdout",
     "output_type": "stream",
     "text": [
      "R2 score -0.13322001133220018\n",
      "MAE 0.1105\n"
     ]
    }
   ],
   "source": [
    "step1 = ColumnTransformer(transformers=[\n",
    "    ('col_tnf',OneHotEncoder(sparse_output=False,drop='first'),[0,1])\n",
    "],remainder='passthrough')\n",
    "\n",
    "step2 = AdaBoostClassifier(n_estimators=500)\n",
    "\n",
    "pipe = Pipeline([\n",
    "    ('step1',step1),\n",
    "    ('step2',step2)\n",
    "])\n",
    "\n",
    "pipe.fit(X_train,y_train)\n",
    "\n",
    "y_pred = pipe.predict(X_test)\n",
    "\n",
    "print('R2 score',r2_score(y_test,y_pred))\n",
    "print('MAE',mean_absolute_error(y_test,y_pred))"
   ]
  },
  {
   "cell_type": "code",
   "execution_count": 73,
   "metadata": {},
   "outputs": [
    {
     "name": "stdout",
     "output_type": "stream",
     "text": [
      "R2 score -0.13834770369116933\n",
      "MAE 0.111\n"
     ]
    }
   ],
   "source": [
    "step1 = ColumnTransformer(transformers=[\n",
    "    ('col_tnf',OneHotEncoder(sparse_output=False,drop='first'),[0,1])\n",
    "],remainder='passthrough')\n",
    "\n",
    "step2 = XGBClassifier(n_estimators=45,max_depth=5,learning_rate=0.5)\n",
    "\n",
    "pipe = Pipeline([\n",
    "    ('step1',step1),\n",
    "    ('step2',step2)\n",
    "])\n",
    "\n",
    "pipe.fit(X_train,y_train)\n",
    "\n",
    "y_pred = pipe.predict(X_test)\n",
    "\n",
    "print('R2 score',r2_score(y_test,y_pred))\n",
    "print('MAE',mean_absolute_error(y_test,y_pred))"
   ]
  },
  {
   "cell_type": "code",
   "execution_count": 74,
   "metadata": {},
   "outputs": [
    {
     "name": "stdout",
     "output_type": "stream",
     "text": [
      "R2 score -0.8510969415878926\n",
      "MAE 0.1805\n"
     ]
    }
   ],
   "source": [
    "step1 = ColumnTransformer(transformers=[\n",
    "    ('col_tnf',OneHotEncoder(sparse_output=False,drop='first'),[0,1])\n",
    "],remainder='passthrough')\n",
    "\n",
    "step2 = ExtraTreesClassifier()\n",
    "\n",
    "pipe = Pipeline([\n",
    "    ('step1',step1),\n",
    "    ('step2',step2)\n",
    "])\n",
    "\n",
    "pipe.fit(X_train,y_train)\n",
    "\n",
    "y_pred = pipe.predict(X_test)\n",
    "\n",
    "print('R2 score',r2_score(y_test,y_pred))\n",
    "print('MAE',mean_absolute_error(y_test,y_pred))"
   ]
  },
  {
   "cell_type": "code",
   "execution_count": 75,
   "metadata": {},
   "outputs": [
    {
     "name": "stdout",
     "output_type": "stream",
     "text": [
      "0        1\n",
      "1        2\n",
      "2        3\n",
      "3        3\n",
      "4        4\n",
      "        ..\n",
      "9995    20\n",
      "9996     3\n",
      "9997    19\n",
      "9998    11\n",
      "9999     3\n",
      "Name: Company, Length: 10000, dtype: int64\n",
      "0        1\n",
      "1        2\n",
      "2        3\n",
      "3        4\n",
      "4        5\n",
      "        ..\n",
      "9995    28\n",
      "9996    40\n",
      "9997    37\n",
      "9998    15\n",
      "9999     6\n",
      "Name: Product_Name, Length: 10000, dtype: int64\n"
     ]
    }
   ],
   "source": [
    "df['Product_Name'] = df['Product_Name'].apply(product)\n",
    "df['Company'] = df['Company'].apply(company)\n",
    "\n",
    "print(df['Company'])\n",
    "print(df['Product_Name'])"
   ]
  },
  {
   "cell_type": "code",
   "execution_count": 76,
   "metadata": {},
   "outputs": [
    {
     "name": "stdout",
     "output_type": "stream",
     "text": [
      "0       0\n",
      "1       0\n",
      "2       0\n",
      "3       0\n",
      "4       1\n",
      "       ..\n",
      "9995    0\n",
      "9996    0\n",
      "9997    0\n",
      "9998    0\n",
      "9999    0\n",
      "Name: Fraudulent, Length: 10000, dtype: int64\n",
      "Accuracy: 0.85\n",
      "Mean Absolute Error: 0.15\n"
     ]
    }
   ],
   "source": [
    "from sklearn.ensemble import RandomForestClassifier\n",
    "from sklearn.model_selection import train_test_split\n",
    "from sklearn.metrics import accuracy_score\n",
    "from sklearn.metrics import mean_absolute_error\n",
    "\n",
    "# Convert Fraudulent column to binary (0=Genuine, 1=Fraudulent)\n",
    "df[\"Fraudulent\"] = df[\"Fraudulent\"].apply(lambda x: 1 if x == \"Fraudulent\" else 0)\n",
    "\n",
    "# Select Features\n",
    "X = df[[\"Product_Name\", \"Company\", \"Quantity\", \"Total_Price\"]]\n",
    "y = df[\"Fraudulent\"]\n",
    "print(y)\n",
    "# Train-Test Split\n",
    "X_train, X_test, y_train, y_test = train_test_split(X, y, test_size=0.2, random_state=42)\n",
    "\n",
    "# Train Model\n",
    "clf = RandomForestClassifier(n_estimators=100, random_state=42)\n",
    "clf.fit(X_train, y_train)\n",
    "\n",
    "# Evaluate\n",
    "y_pred = clf.predict(X_test)\n",
    "print(\"Accuracy:\", accuracy_score(y_test, y_pred))\n",
    "print(\"Mean Absolute Error:\", mean_absolute_error(y_test, y_pred))\n"
   ]
  },
  {
   "cell_type": "code",
   "execution_count": 1,
   "metadata": {},
   "outputs": [
    {
     "ename": "NameError",
     "evalue": "name 'df' is not defined",
     "output_type": "error",
     "traceback": [
      "\u001b[1;31m---------------------------------------------------------------------------\u001b[0m",
      "\u001b[1;31mNameError\u001b[0m                                 Traceback (most recent call last)",
      "Cell \u001b[1;32mIn[1], line 3\u001b[0m\n\u001b[0;32m      1\u001b[0m \u001b[38;5;28;01mimport\u001b[39;00m \u001b[38;5;21;01mpickle\u001b[39;00m\n\u001b[1;32m----> 3\u001b[0m pickle\u001b[38;5;241m.\u001b[39mdump(\u001b[43mdf\u001b[49m,\u001b[38;5;28mopen\u001b[39m(\u001b[38;5;124m'\u001b[39m\u001b[38;5;124mfd.pkl\u001b[39m\u001b[38;5;124m'\u001b[39m,\u001b[38;5;124m'\u001b[39m\u001b[38;5;124mwb\u001b[39m\u001b[38;5;124m'\u001b[39m))\n\u001b[0;32m      4\u001b[0m pickle\u001b[38;5;241m.\u001b[39mdump(clf,\u001b[38;5;28mopen\u001b[39m(\u001b[38;5;124m'\u001b[39m\u001b[38;5;124mRFC.pkl\u001b[39m\u001b[38;5;124m'\u001b[39m,\u001b[38;5;124m'\u001b[39m\u001b[38;5;124mwb\u001b[39m\u001b[38;5;124m'\u001b[39m))\n",
      "\u001b[1;31mNameError\u001b[0m: name 'df' is not defined"
     ]
    }
   ],
   "source": [
    "import pickle\n",
    "\n",
    "pickle.dump(df,open('fd.pkl','wb'))\n",
    "pickle.dump(clf,open('RFC.pkl','wb'))"
   ]
  },
  {
   "cell_type": "code",
   "execution_count": null,
   "metadata": {},
   "outputs": [],
   "source": [
    "clf.predict(20,15,)"
   ]
  }
 ],
 "metadata": {
  "kernelspec": {
   "display_name": "Python 3",
   "language": "python",
   "name": "python3"
  },
  "language_info": {
   "codemirror_mode": {
    "name": "ipython",
    "version": 3
   },
   "file_extension": ".py",
   "mimetype": "text/x-python",
   "name": "python",
   "nbconvert_exporter": "python",
   "pygments_lexer": "ipython3",
   "version": "3.12.4"
  }
 },
 "nbformat": 4,
 "nbformat_minor": 2
}
